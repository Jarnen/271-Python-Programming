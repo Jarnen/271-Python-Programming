{
 "cells": [
  {
   "cell_type": "markdown",
   "metadata": {},
   "source": [
    "# Linked List"
   ]
  },
  {
   "cell_type": "code",
   "execution_count": 2,
   "metadata": {},
   "outputs": [],
   "source": [
    "class Node:\n",
    "    \n",
    "    def __init__(self, value):\n",
    "        \n",
    "        self.value = value\n",
    "        self.next_node = None\n",
    "        "
   ]
  },
  {
   "cell_type": "code",
   "execution_count": 4,
   "metadata": {},
   "outputs": [],
   "source": [
    "node_a = Node('a')\n",
    "node_b = Node('b')\n",
    "node_c = Node('c')\n",
    "node_a.next_node = node_b\n",
    "node_b.next_node = node_c\n"
   ]
  },
  {
   "cell_type": "code",
   "execution_count": 5,
   "metadata": {},
   "outputs": [],
   "source": [
    "node_c.next_node\n"
   ]
  },
  {
   "cell_type": "code",
   "execution_count": 7,
   "metadata": {},
   "outputs": [
    {
     "data": {
      "text/plain": [
       "'b'"
      ]
     },
     "execution_count": 7,
     "metadata": {},
     "output_type": "execute_result"
    }
   ],
   "source": [
    "node_a.next_node.value"
   ]
  },
  {
   "cell_type": "markdown",
   "metadata": {},
   "source": [
    "# Reverse Linked-List"
   ]
  },
  {
   "cell_type": "code",
   "execution_count": 18,
   "metadata": {},
   "outputs": [],
   "source": [
    "def reverse(head):\n",
    "    \n",
    "    current = head\n",
    "    previous = None\n",
    "    nextt = None\n",
    "    \n",
    "    while current:\n",
    "        nextt = current.next_node\n",
    "        \n",
    "        current.next_node = previous\n",
    "        \n",
    "        previous = current\n",
    "        current = nextt\n",
    "        \n",
    "    return previous"
   ]
  },
  {
   "cell_type": "code",
   "execution_count": 22,
   "metadata": {},
   "outputs": [
    {
     "name": "stdout",
     "output_type": "stream",
     "text": [
      "a\n",
      "b\n"
     ]
    }
   ],
   "source": [
    "node_a = Node('a')\n",
    "node_b = Node('b')\n",
    "node_c = Node('c')\n",
    "node_a.next_node = node_b\n",
    "node_b.next_node = node_c\n",
    "reverse(node_a)\n",
    "# print(node_a.next_node.value)\n",
    "print(node_b.next_node.value)\n",
    "print(node_c.next_node.value)"
   ]
  },
  {
   "cell_type": "markdown",
   "metadata": {},
   "source": [
    "# Find n'th to last node"
   ]
  },
  {
   "cell_type": "code",
   "execution_count": 31,
   "metadata": {},
   "outputs": [],
   "source": [
    "def nth_to_last(n, head):\n",
    "    \n",
    "    left = head\n",
    "    right = head\n",
    "    \n",
    "    # move the right to the n-1 node\n",
    "    for i in range(n-1):\n",
    "        if not right.next_node:\n",
    "            raise LookupError('Error: n is larger then linked list')\n",
    "        right = right.next_node\n",
    "    \n",
    "    # now move left and right synchronously until right meets end of list\n",
    "    while right.next_node:\n",
    "        left = left.next_node\n",
    "        right = right.next_node\n",
    "        \n",
    "    return left\n",
    "        "
   ]
  },
  {
   "cell_type": "code",
   "execution_count": 38,
   "metadata": {},
   "outputs": [
    {
     "name": "stdout",
     "output_type": "stream",
     "text": [
      "b\n",
      "a\n"
     ]
    }
   ],
   "source": [
    "# node_a = Node('a')\n",
    "# node_b = Node('b')\n",
    "# node_c = Node('c')\n",
    "# node_a.next_node = node_b\n",
    "# node_b.next_node = node_c\n",
    "secondlastnode = nth_to_last(2, node_a)\n",
    "thirdlastnode = nth_to_last(3, node_a)\n",
    "print(secondlastnode.value)\n",
    "print(thirdlastnode.value)"
   ]
  },
  {
   "cell_type": "markdown",
   "metadata": {},
   "source": [
    "# Doubly Linked-List"
   ]
  },
  {
   "cell_type": "code",
   "execution_count": 40,
   "metadata": {},
   "outputs": [],
   "source": [
    "class DoublyLinkedList:\n",
    "    \n",
    "    def __init__(self, value):\n",
    "        self.value = value\n",
    "        self.previous_node = None\n",
    "        self.next_node = None\n",
    "        "
   ]
  },
  {
   "cell_type": "code",
   "execution_count": null,
   "metadata": {},
   "outputs": [],
   "source": []
  }
 ],
 "metadata": {
  "kernelspec": {
   "display_name": "Python 3.6.9 64-bit",
   "language": "python",
   "name": "python36964bit44fd13929a9546cea639e1c779e3495c"
  },
  "language_info": {
   "codemirror_mode": {
    "name": "ipython",
    "version": 3
   },
   "file_extension": ".py",
   "mimetype": "text/x-python",
   "name": "python",
   "nbconvert_exporter": "python",
   "pygments_lexer": "ipython3",
   "version": "3.6.9"
  }
 },
 "nbformat": 4,
 "nbformat_minor": 4
}
