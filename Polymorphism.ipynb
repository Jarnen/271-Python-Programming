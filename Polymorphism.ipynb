{
 "cells": [
  {
   "cell_type": "markdown",
   "metadata": {},
   "source": [
    "# Polymorphism\n",
    "    - Polymorphism means \"many forms\"\n",
    "    - a feature of OOP that allows an object variable to behave differently depending on the type of object it\n",
    "      holds\n",
    "    - LSP (Liskov Substituition Principal - \"code that works on class T, will not breack when T is replaced \n",
    "      with any of its subclass"
   ]
  },
  {
   "cell_type": "code",
   "execution_count": 3,
   "metadata": {},
   "outputs": [],
   "source": [
    "class Person:\n",
    "    \n",
    "    def __init__(self, first_name, last_name):\n",
    "        self.first_name = first_name\n",
    "        self.last_name = last_name\n",
    "        \n",
    "    @property\n",
    "    def full_name(self):\n",
    "        return \" {} {} \".format(self.first_name, self.last_name)\n",
    "    \n",
    "    @full_name.setter\n",
    "    def full_name(self, name):\n",
    "        first, last = name.split(' ')\n",
    "        self.first_name = first\n",
    "        self.last_name = last"
   ]
  },
  {
   "cell_type": "code",
   "execution_count": 72,
   "metadata": {},
   "outputs": [],
   "source": [
    "class Employee(Person):\n",
    "    \n",
    "    def __init__(self, id, first_name, last_name, salary = 0):\n",
    "        super().__init__(first_name, last_name)\n",
    "        self.id = id\n",
    "        self.salary = salary\n",
    "        \n",
    "    \n",
    "    def pay(self):\n",
    "        tax = self.salary * .10\n",
    "        return self.salary - tax\n"
   ]
  },
  {
   "cell_type": "code",
   "execution_count": 81,
   "metadata": {},
   "outputs": [],
   "source": [
    "class SalesEmployee(Employee):\n",
    "    \n",
    "    def __init_(self):\n",
    "        super().__init__()\n",
    "    \n",
    "#     @property\n",
    "    def pay(self):\n",
    "        return super().pay() + self.commission # calls the Employee.pay() and then we just add the commision\n",
    "        "
   ]
  },
  {
   "cell_type": "code",
   "execution_count": 82,
   "metadata": {},
   "outputs": [],
   "source": [
    "emp = SalesEmployee(123, \"Jarnen\", \"Richard\", 20000)"
   ]
  },
  {
   "cell_type": "code",
   "execution_count": 84,
   "metadata": {},
   "outputs": [
    {
     "data": {
      "text/plain": [
       "18040.0"
      ]
     },
     "execution_count": 84,
     "metadata": {},
     "output_type": "execute_result"
    }
   ],
   "source": [
    "emp.commission = 40\n",
    "emp.pay()"
   ]
  },
  {
   "cell_type": "code",
   "execution_count": 85,
   "metadata": {},
   "outputs": [],
   "source": [
    "emp2 = Employee(123, \"Jacinth\", \"Richard\", 20000)"
   ]
  },
  {
   "cell_type": "code",
   "execution_count": 86,
   "metadata": {},
   "outputs": [
    {
     "data": {
      "text/plain": [
       "18000.0"
      ]
     },
     "execution_count": 86,
     "metadata": {},
     "output_type": "execute_result"
    }
   ],
   "source": [
    "emp2.pay()"
   ]
  },
  {
   "cell_type": "code",
   "execution_count": 87,
   "metadata": {},
   "outputs": [],
   "source": [
    "def total_pay(employees):\n",
    "    total = 0\n",
    "    for employee in employees:\n",
    "        total = total + employee.pay() # polymorphism adopted here....\n",
    "    print(\"Total:\", total)\n",
    "    "
   ]
  },
  {
   "cell_type": "code",
   "execution_count": 88,
   "metadata": {},
   "outputs": [
    {
     "name": "stdout",
     "output_type": "stream",
     "text": [
      "Total: 7300.0\n"
     ]
    }
   ],
   "source": [
    "emp3 = Employee(123, \"Jarnen\", \"Richard\", 5000)\n",
    "emp4 = SalesEmployee(134, \"Jacinth\", \"Richard\", 3000)\n",
    "emp4.commission = 100\n",
    "empl_list = [emp3, emp4]\n",
    "# total = (5000 - 500) + (3000 -300) + 100 = \n",
    "total_pay(empl_list)"
   ]
  },
  {
   "cell_type": "code",
   "execution_count": 89,
   "metadata": {},
   "outputs": [
    {
     "name": "stdout",
     "output_type": "stream",
     "text": [
      "True\n",
      "True\n",
      "False\n",
      "True\n"
     ]
    }
   ],
   "source": [
    "print(isinstance(emp3, Employee))\n",
    "print(isinstance(emp4, SalesEmployee))\n",
    "print(isinstance(emp3, SalesEmployee))\n",
    "print(isinstance(emp4, Employee))"
   ]
  },
  {
   "cell_type": "code",
   "execution_count": null,
   "metadata": {},
   "outputs": [],
   "source": []
  }
 ],
 "metadata": {
  "kernelspec": {
   "display_name": "Python 3.6.9 64-bit",
   "language": "python",
   "name": "python36964bit44fd13929a9546cea639e1c779e3495c"
  },
  "language_info": {
   "codemirror_mode": {
    "name": "ipython",
    "version": 3
   },
   "file_extension": ".py",
   "mimetype": "text/x-python",
   "name": "python",
   "nbconvert_exporter": "python",
   "pygments_lexer": "ipython3",
   "version": "3.6.9"
  }
 },
 "nbformat": 4,
 "nbformat_minor": 4
}
