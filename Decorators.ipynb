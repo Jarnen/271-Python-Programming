{
 "cells": [
  {
   "cell_type": "markdown",
   "metadata": {},
   "source": [
    "# 1: Static attributes (aka Class Variables/Class Attributes)\n",
    "    - belongs to a class but not belongs to an instance of the class.\n",
    "    - allocated once regardless of how many objects created.\n",
    "    - created within a class but outside any of the methods\n",
    "    - use class name to access static attributes in the class instead of self\n",
    " "
   ]
  },
  {
   "cell_type": "code",
   "execution_count": 4,
   "metadata": {},
   "outputs": [],
   "source": [
    "class Account:\n",
    "    # static attributes\n",
    "    \n",
    "    min_balance = 10000\n",
    "    penalty = 100\n",
    "    \n",
    "    def __init__(self, number, name, balance=0):\n",
    "        self.name = name\n",
    "        self.number = number\n",
    "        self.balance = balance\n",
    "        \n",
    "    def withdraw(self, ammount):\n",
    "        self.balance -= ammount\n",
    "        if self.balance < Account.min_balance: # use class name to access static attribute min_balance\n",
    "            self.balance -= Account.penalty\n",
    "            \n",
    "    "
   ]
  },
  {
   "cell_type": "code",
   "execution_count": 6,
   "metadata": {},
   "outputs": [
    {
     "name": "stdout",
     "output_type": "stream",
     "text": [
      "4900\n"
     ]
    }
   ],
   "source": [
    "account = Account(1234, 'Alice', 30000)\n",
    "account.withdraw(25000)\n",
    "print(account.balance)"
   ]
  },
  {
   "cell_type": "code",
   "execution_count": 20,
   "metadata": {},
   "outputs": [],
   "source": [
    "class Foo:\n",
    "    \n",
    "    x = 'static_x' # static attributes\n",
    "    y = 'static_y'\n",
    "    \n",
    "    def __init__(self):\n",
    "        self.x = 'instance_x'\n",
    "        "
   ]
  },
  {
   "cell_type": "code",
   "execution_count": 23,
   "metadata": {},
   "outputs": [
    {
     "name": "stdout",
     "output_type": "stream",
     "text": [
      "instance_x\n",
      "static_y\n"
     ]
    }
   ],
   "source": [
    "foo = Foo()\n",
    "print(foo.x)\n",
    "print(foo.y)"
   ]
  },
  {
   "cell_type": "code",
   "execution_count": 24,
   "metadata": {},
   "outputs": [
    {
     "name": "stdout",
     "output_type": "stream",
     "text": [
      "static_x\n",
      "static_y\n"
     ]
    }
   ],
   "source": [
    "Foo.y\n",
    "print(Foo.x) # accessing static attributes using Class name\n",
    "print(Foo.y)"
   ]
  },
  {
   "cell_type": "markdown",
   "metadata": {},
   "source": [
    "# 2: Class methods\n",
    "        - have a parameter of cls instead of self\n",
    "        - use the decorator @classmethod to declare the method\n",
    "        - can be accessed without instantiating the class\n",
    "        "
   ]
  },
  {
   "cell_type": "code",
   "execution_count": 29,
   "metadata": {},
   "outputs": [
    {
     "name": "stdout",
     "output_type": "stream",
     "text": [
      "10000\n"
     ]
    }
   ],
   "source": [
    "class Account:\n",
    "    \n",
    "    min_balance = 10000\n",
    "    \n",
    "    @classmethod\n",
    "    def get_min_balance(cls):\n",
    "            return Account.min_balance\n",
    "        \n",
    "print(Account.get_min_balance())\n"
   ]
  },
  {
   "cell_type": "markdown",
   "metadata": {},
   "source": [
    "# 3: Static methods \n",
    "    - ordinary functions that a associated with a class because of logical connection with the class\n",
    "    - has no 'self' or 'cls' parameter\n",
    "    - use @staticmethod decorator\n",
    "    "
   ]
  },
  {
   "cell_type": "code",
   "execution_count": 31,
   "metadata": {},
   "outputs": [
    {
     "name": "stdout",
     "output_type": "stream",
     "text": [
      "True\n",
      "False\n"
     ]
    }
   ],
   "source": [
    "class Account:\n",
    "    min_balance = 10000\n",
    "    \n",
    "    @staticmethod\n",
    "    def is_valid_account(num):\n",
    "        if len(str(num)) != 12:\n",
    "            return False\n",
    "        else:\n",
    "            return True\n",
    "      \n",
    "    \n",
    "print(Account.is_valid_account(123456789101))\n",
    "print(Account.is_valid_account(9019293))"
   ]
  },
  {
   "cell_type": "markdown",
   "metadata": {},
   "source": [
    "# 4: Setter methods\n",
    "    - used to change value of a property \n",
    "    - use decorator @property_name.setter\n",
    "    "
   ]
  },
  {
   "cell_type": "code",
   "execution_count": 4,
   "metadata": {},
   "outputs": [],
   "source": [
    "class Person:\n",
    "    \n",
    "    def __init__(self, first_name, last_name):\n",
    "        self.first_name = first_name\n",
    "        self.last_name = last_name\n",
    "    \n",
    "    @property\n",
    "    def full_name(self):\n",
    "        return '{} {}'.format(self.first_name, self.last_name)\n",
    "    \n",
    "    @full_name.setter\n",
    "    def full_name(self, name):\n",
    "        first, last = name.split(' ')\n",
    "        self.first_name = first\n",
    "        self.last_name = last\n",
    "        "
   ]
  },
  {
   "cell_type": "code",
   "execution_count": 5,
   "metadata": {},
   "outputs": [
    {
     "name": "stdout",
     "output_type": "stream",
     "text": [
      "Tony Stark\n"
     ]
    }
   ],
   "source": [
    "iron_man = Person('Tony', 'Stark')\n",
    "print(iron_man.full_name)\n"
   ]
  },
  {
   "cell_type": "code",
   "execution_count": 6,
   "metadata": {},
   "outputs": [
    {
     "name": "stdout",
     "output_type": "stream",
     "text": [
      "Jarnen Richard\n"
     ]
    }
   ],
   "source": [
    "iron_man.full_name = 'Jarnen Richard'\n",
    "print(iron_man.full_name)"
   ]
  },
  {
   "cell_type": "code",
   "execution_count": 7,
   "metadata": {},
   "outputs": [
    {
     "name": "stdout",
     "output_type": "stream",
     "text": [
      "Jacinth\n",
      "Richard\n"
     ]
    }
   ],
   "source": [
    "iron_man.full_name = \"Jacinth Richard\"\n",
    "print(iron_man.first_name)\n",
    "print(iron_man.last_name)"
   ]
  },
  {
   "cell_type": "code",
   "execution_count": null,
   "metadata": {},
   "outputs": [],
   "source": []
  }
 ],
 "metadata": {
  "kernelspec": {
   "display_name": "Python 3.6.9 64-bit",
   "language": "python",
   "name": "python36964bit44fd13929a9546cea639e1c779e3495c"
  },
  "language_info": {
   "codemirror_mode": {
    "name": "ipython",
    "version": 3
   },
   "file_extension": ".py",
   "mimetype": "text/x-python",
   "name": "python",
   "nbconvert_exporter": "python",
   "pygments_lexer": "ipython3",
   "version": "3.6.9"
  }
 },
 "nbformat": 4,
 "nbformat_minor": 4
}
