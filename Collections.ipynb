{
 "cells": [
  {
   "cell_type": "markdown",
   "metadata": {},
   "source": [
    "# Collections\n",
    "\n",
    "| Collection Type | Changeable | Ordered | Duplicates | Indexed | Definition |\n",
    "| :-: | :-: | :-: | :-: | :-: | :-: | \n",
    "| Set | X | X | X | X | { } or set(()) |\n",
    "| List | Y | Y | Y | Y | [ ] |\n",
    "| Dictionary | Y | X | X | X | {key:value} |\n",
    "| Tuple | X | Y | Y | Y | ( ) or ( ,) |\n"
   ]
  },
  {
   "cell_type": "code",
   "execution_count": 4,
   "metadata": {},
   "outputs": [
    {
     "name": "stdout",
     "output_type": "stream",
     "text": [
      "1\n",
      "2\n",
      "3\n",
      "4\n"
     ]
    }
   ],
   "source": [
    "set_coll = set((1,2,3,4))\n",
    "# print(set_coll[0]) # gives TypeError - does not support indexing\n",
    "for item in set_coll:\n",
    "    print(item)"
   ]
  },
  {
   "cell_type": "code",
   "execution_count": 10,
   "metadata": {},
   "outputs": [
    {
     "name": "stdout",
     "output_type": "stream",
     "text": [
      "1\n",
      "1\n",
      "2\n",
      "3\n",
      "4\n",
      "4\n"
     ]
    }
   ],
   "source": [
    "tuple_coll = (1,2,3,4,4)\n",
    "# tuple_coll[0] = 0 # TypeError - not changeable\n",
    "print(tuple_coll[0]) # supports indexing\n",
    "for item in tuple_coll:\n",
    "    print(item)"
   ]
  },
  {
   "cell_type": "code",
   "execution_count": null,
   "metadata": {},
   "outputs": [],
   "source": []
  }
 ],
 "metadata": {
  "kernelspec": {
   "display_name": "Python 3.6.9 64-bit",
   "language": "python",
   "name": "python36964bit44fd13929a9546cea639e1c779e3495c"
  },
  "language_info": {
   "codemirror_mode": {
    "name": "ipython",
    "version": 3
   },
   "file_extension": ".py",
   "mimetype": "text/x-python",
   "name": "python",
   "nbconvert_exporter": "python",
   "pygments_lexer": "ipython3",
   "version": "3.6.9"
  }
 },
 "nbformat": 4,
 "nbformat_minor": 4
}
