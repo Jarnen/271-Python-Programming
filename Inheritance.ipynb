{
 "cells": [
  {
   "cell_type": "markdown",
   "metadata": {},
   "source": [
    "# Inheritance\n",
    "    - a feature of OOP that allows you to define a class based on an existing class\n",
    "    - Inheritance can be refered to as \"is a\", \"kind of\" or \"type of\"\n",
    "    - Superclass is the top class in the class hierarchy. Can be refered to as \"parent class\" or \"base class\"\n",
    "    - Subclass is the class below a specific class in the class hierarchy. Can be refered to as \"derived class\" \n",
    "      or \"child class\"\n",
    "   "
   ]
  },
  {
   "cell_type": "code",
   "execution_count": 5,
   "metadata": {},
   "outputs": [],
   "source": [
    "# class TV:\n",
    "    \n",
    "#     def __init__(self):\n",
    "#         self.power_state = False\n",
    "        \n",
    "#     def toggle_power(self):\n",
    "#         self.power_state = not self.power_state\n",
    "        \n",
    "#     def chage_input(self):\n",
    "#         pass\n",
    "    \n",
    "\n",
    "# class Tablet:\n",
    "    \n",
    "#     def __init__(self):\n",
    "#         self.power_state = False\n",
    "        \n",
    "#     def toggle_power(self):\n",
    "#         self.power_state = not self.power_state\n",
    "        \n",
    "#     def browse(self, url):\n",
    "#         pass\n",
    "    \n",
    "\n",
    "# class MobilePhone:\n",
    "    \n",
    "#     def __init__(self):\n",
    "#         self.power_state = False\n",
    "        \n",
    "#     def toggle_power(self):\n",
    "#         self.power_state = not self.power_state\n",
    "        \n",
    "#     def call(self, number):\n",
    "#         pass\n",
    "    \n"
   ]
  },
  {
   "cell_type": "code",
   "execution_count": 6,
   "metadata": {},
   "outputs": [],
   "source": [
    "# Above declared classes can be refactored to use Inheritance to remove redundant codes\n",
    "\n",
    "class Device:\n",
    "    def __init__(self):\n",
    "        self.power_state = False\n",
    "        \n",
    "    def toggle_power(self):\n",
    "        self.power_state = not self.power_state\n",
    "        \n",
    "\n",
    "class TV(Device):\n",
    "    \n",
    "    def chage_input(self):\n",
    "        pass\n",
    "    \n",
    "\n",
    "class Tablet(Device):\n",
    "    \n",
    "    def browse(self, url):\n",
    "        pass\n",
    "    \n",
    "\n",
    "class MobilePhone(Device):\n",
    "    \n",
    "    def call(self, number):\n",
    "        pass\n",
    "    "
   ]
  },
  {
   "cell_type": "code",
   "execution_count": 11,
   "metadata": {},
   "outputs": [],
   "source": [
    "tv = TV()\n",
    "tablet = Tablet()\n",
    "phone = MobilePhone()\n",
    "tv.toggle_power()\n",
    "tablet.toggle_power()\n"
   ]
  },
  {
   "cell_type": "code",
   "execution_count": 12,
   "metadata": {},
   "outputs": [
    {
     "name": "stdout",
     "output_type": "stream",
     "text": [
      "tv:  {'power_state': True}\n",
      "tablet:  {'power_state': True}\n",
      "phone:  {'power_state': False}\n"
     ]
    }
   ],
   "source": [
    "print(\"tv: \", tv.__dict__)\n",
    "print(\"tablet: \", tablet.__dict__)\n",
    "print(\"phone: \", phone.__dict__)"
   ]
  },
  {
   "cell_type": "code",
   "execution_count": 23,
   "metadata": {},
   "outputs": [],
   "source": [
    "# Calling a superclass constructor\n",
    "\n",
    "class Person:\n",
    "    \n",
    "    def __init__(self, first_name, last_name):\n",
    "        self.first_name = first_name\n",
    "        self.last_name = last_name\n",
    "        \n",
    "    @property\n",
    "    def full_name(self):\n",
    "        return '{} {} '.format(self.first_name, self.last_name)\n",
    "    \n",
    "    \n",
    "\n",
    "class Employee(Person):\n",
    "    \n",
    "    def __init__(self, id_number, first_name, last_name, salary=0):\n",
    "        super().__init__(first_name, last_name) # superclass init method called here without the self argument.\n",
    "        self.id = id_number\n",
    "        self.salary = salary\n",
    "        \n",
    "    def pay(self):\n",
    "        tax = self.salary * .10\n",
    "        return self.salary - tax\n",
    "    "
   ]
  },
  {
   "cell_type": "code",
   "execution_count": 24,
   "metadata": {},
   "outputs": [
    {
     "name": "stdout",
     "output_type": "stream",
     "text": [
      "Full Name:  Jarnen Richard \n",
      "ID:  1234\n",
      "Pay:  2070.0\n"
     ]
    }
   ],
   "source": [
    "employee = Employee(1234, \"Jarnen\", \"Richard\", 2300)\n",
    "print(\"Full Name: \", employee.full_name) # full_name method called like an attribute without parenthesis ()\n",
    "print(\"ID: \", employee.id)\n",
    "print(\"Pay: \", employee.pay()) # instance method called with parenthesis ()"
   ]
  },
  {
   "cell_type": "code",
   "execution_count": 25,
   "metadata": {},
   "outputs": [
    {
     "name": "stdout",
     "output_type": "stream",
     "text": [
      "Help on class Employee in module __main__:\n",
      "\n",
      "class Employee(Person)\n",
      " |  Method resolution order:\n",
      " |      Employee\n",
      " |      Person\n",
      " |      builtins.object\n",
      " |  \n",
      " |  Methods defined here:\n",
      " |  \n",
      " |  __init__(self, id_number, first_name, last_name, salary=0)\n",
      " |      Initialize self.  See help(type(self)) for accurate signature.\n",
      " |  \n",
      " |  pay(self)\n",
      " |  \n",
      " |  ----------------------------------------------------------------------\n",
      " |  Data descriptors inherited from Person:\n",
      " |  \n",
      " |  __dict__\n",
      " |      dictionary for instance variables (if defined)\n",
      " |  \n",
      " |  __weakref__\n",
      " |      list of weak references to the object (if defined)\n",
      " |  \n",
      " |  full_name\n",
      "\n"
     ]
    }
   ],
   "source": [
    "help(Employee)"
   ]
  },
  {
   "cell_type": "code",
   "execution_count": null,
   "metadata": {},
   "outputs": [],
   "source": []
  }
 ],
 "metadata": {
  "kernelspec": {
   "display_name": "Python 3.6.9 64-bit",
   "language": "python",
   "name": "python36964bit44fd13929a9546cea639e1c779e3495c"
  },
  "language_info": {
   "codemirror_mode": {
    "name": "ipython",
    "version": 3
   },
   "file_extension": ".py",
   "mimetype": "text/x-python",
   "name": "python",
   "nbconvert_exporter": "python",
   "pygments_lexer": "ipython3",
   "version": "3.6.9"
  }
 },
 "nbformat": 4,
 "nbformat_minor": 4
}
