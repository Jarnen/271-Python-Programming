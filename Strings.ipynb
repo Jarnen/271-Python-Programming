{
 "cells": [
  {
   "cell_type": "markdown",
   "metadata": {},
   "source": [
    "# Strings"
   ]
  },
  {
   "cell_type": "raw",
   "metadata": {},
   "source": []
  },
  {
   "cell_type": "code",
   "execution_count": 5,
   "metadata": {},
   "outputs": [
    {
     "name": "stdout",
     "output_type": "stream",
     "text": [
      "Jarnen \r",
      " Richard is a Software Engineer\n"
     ]
    }
   ],
   "source": [
    "arr = \"Jarnen \\r Richard is a Software Engineer\" # carriage return\n",
    "print(arr)"
   ]
  },
  {
   "cell_type": "code",
   "execution_count": 6,
   "metadata": {},
   "outputs": [
    {
     "name": "stdout",
     "output_type": "stream",
     "text": [
      "Jarnen \t Richard is a Software Engineer\n"
     ]
    }
   ],
   "source": [
    "arr = \"Jarnen \\t Richard is a Software Engineer\" # tab\n",
    "print(arr)"
   ]
  },
  {
   "cell_type": "code",
   "execution_count": 8,
   "metadata": {},
   "outputs": [
    {
     "name": "stdout",
     "output_type": "stream",
     "text": [
      "Jarnen \n",
      "Richard is a Software Engineer\n"
     ]
    }
   ],
   "source": [
    "arr = \"Jarnen \\nRichard is a Software Engineer\" # new line\n",
    "print(arr)"
   ]
  },
  {
   "cell_type": "code",
   "execution_count": 10,
   "metadata": {},
   "outputs": [
    {
     "name": "stdout",
     "output_type": "stream",
     "text": [
      "Jarnen ' Richard is a Software Engineer\n"
     ]
    }
   ],
   "source": [
    "arr = 'Jarnen \\' Richard is a Software Engineer' # single quote\n",
    "print(arr)"
   ]
  },
  {
   "cell_type": "code",
   "execution_count": 11,
   "metadata": {},
   "outputs": [
    {
     "name": "stdout",
     "output_type": "stream",
     "text": [
      "Jarnen \" Richard is a Software Engineer\n"
     ]
    }
   ],
   "source": [
    "arr = \"Jarnen \\\" Richard is a Software Engineer\" # double quotes\n",
    "print(arr)"
   ]
  },
  {
   "cell_type": "code",
   "execution_count": 25,
   "metadata": {},
   "outputs": [
    {
     "name": "stdout",
     "output_type": "stream",
     "text": [
      "s[::3] =  1470\n",
      "s[::2] =  13579\n",
      "s[::-1] =  0987654321\n",
      "s[-2::-1] =  987654321\n",
      "s[2::-1] =  321\n"
     ]
    }
   ],
   "source": [
    "s = '1234567890'\n",
    "print('s[::3] = ', s[::3])   # slicing\n",
    "print('s[::2] = ', s[::2])\n",
    "print('s[::-1] = ', s[::-1])  # reverse\n",
    "print('s[-2::-1] = ', s[-2::-1])  # reverse\n",
    "print('s[2::-1] = ', s[2::-1])  # reverse"
   ]
  },
  {
   "cell_type": "code",
   "execution_count": 31,
   "metadata": {},
   "outputs": [
    {
     "name": "stdout",
     "output_type": "stream",
     "text": [
      "['Jarnen', '\"', 'Richard', 'is', 'a', 'Software', 'Engineer']\n"
     ]
    }
   ],
   "source": [
    "list1 = arr.split() # split the string into list\n",
    "print(list1)"
   ]
  },
  {
   "cell_type": "code",
   "execution_count": 33,
   "metadata": {},
   "outputs": [
    {
     "name": "stdout",
     "output_type": "stream",
     "text": [
      "Jarnen\"RichardisaSoftwareEngineer\n"
     ]
    }
   ],
   "source": [
    "print(\"\".join(list1)) # join the strings"
   ]
  },
  {
   "cell_type": "code",
   "execution_count": 34,
   "metadata": {},
   "outputs": [
    {
     "name": "stdout",
     "output_type": "stream",
     "text": [
      "Jarnen \" Richard is a Software Engineer\n"
     ]
    }
   ],
   "source": [
    "print(arr)"
   ]
  },
  {
   "cell_type": "code",
   "execution_count": 40,
   "metadata": {},
   "outputs": [
    {
     "name": "stdout",
     "output_type": "stream",
     "text": [
      "Jacinth Escol Richard is a Software Engineer\n"
     ]
    }
   ],
   "source": [
    "print(arr.replace('Jarnen \" Richard', 'Jacinth Escol Richard'))"
   ]
  },
  {
   "cell_type": "code",
   "execution_count": 43,
   "metadata": {},
   "outputs": [
    {
     "name": "stdout",
     "output_type": "stream",
     "text": [
      "False\n",
      "True\n"
     ]
    }
   ],
   "source": [
    "print(\"Iron man\" == \"iron man\") # returns False since python is case sensitive\n",
    "print(\"Iron man\" == \"Iron man\") # returns True"
   ]
  },
  {
   "cell_type": "code",
   "execution_count": 46,
   "metadata": {},
   "outputs": [
    {
     "name": "stdout",
     "output_type": "stream",
     "text": [
      "Jarnen \" Richard is a Software Engineer\n"
     ]
    },
    {
     "data": {
      "text/plain": [
       "4"
      ]
     },
     "execution_count": 46,
     "metadata": {},
     "output_type": "execute_result"
    }
   ],
   "source": [
    "print(arr)\n",
    "arr.count('e')"
   ]
  },
  {
   "cell_type": "code",
   "execution_count": null,
   "metadata": {},
   "outputs": [],
   "source": []
  }
 ],
 "metadata": {
  "kernelspec": {
   "display_name": "Python 3",
   "language": "python",
   "name": "python3"
  },
  "language_info": {
   "codemirror_mode": {
    "name": "ipython",
    "version": 3
   },
   "file_extension": ".py",
   "mimetype": "text/x-python",
   "name": "python",
   "nbconvert_exporter": "python",
   "pygments_lexer": "ipython3",
   "version": "3.6.9"
  }
 },
 "nbformat": 4,
 "nbformat_minor": 4
}
